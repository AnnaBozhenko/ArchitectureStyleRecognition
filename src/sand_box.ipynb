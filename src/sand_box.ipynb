{
  "nbformat": 4,
  "nbformat_minor": 0,
  "metadata": {
    "colab": {
      "provenance": [],
      "authorship_tag": "ABX9TyOHaTnVfvNl6pVgakORXujv",
      "include_colab_link": true
    },
    "kernelspec": {
      "name": "python3",
      "display_name": "Python 3"
    },
    "language_info": {
      "name": "python"
    }
  },
  "cells": [
    {
      "cell_type": "markdown",
      "metadata": {
        "id": "view-in-github",
        "colab_type": "text"
      },
      "source": [
        "<a href=\"https://colab.research.google.com/github/AnnaBozhenko/ArchitectureStyleRecognition/blob/develop%2Floading_datasets/src/sand_box.ipynb\" target=\"_parent\"><img src=\"https://colab.research.google.com/assets/colab-badge.svg\" alt=\"Open In Colab\"/></a>"
      ]
    },
    {
      "cell_type": "markdown",
      "source": [
        "# Download datasets from kaggle"
      ],
      "metadata": {
        "id": "90CEjfGQ84E3"
      }
    },
    {
      "cell_type": "code",
      "source": [
        "! mkdir ~/.kaggle"
      ],
      "metadata": {
        "colab": {
          "base_uri": "https://localhost:8080/"
        },
        "id": "uA7NoOsd6GSD",
        "outputId": "d61604e3-6627-443c-aaa8-1f362d27b868"
      },
      "execution_count": 8,
      "outputs": [
        {
          "output_type": "stream",
          "name": "stdout",
          "text": [
            "mkdir: cannot create directory ‘/root/.kaggle’: File exists\n"
          ]
        }
      ]
    },
    {
      "cell_type": "code",
      "source": [
        "! cp kaggle.json ~/.kaggle/\n"
      ],
      "metadata": {
        "id": "TCcjoj3W6M-_"
      },
      "execution_count": 9,
      "outputs": []
    },
    {
      "cell_type": "code",
      "source": [
        "! chmod 600 ~/.kaggle/kaggle.json\n"
      ],
      "metadata": {
        "id": "ZTwLKZ-m6QnU"
      },
      "execution_count": 10,
      "outputs": []
    },
    {
      "cell_type": "code",
      "source": [
        "# https://www.kaggle.com/datasets/dumitrux/architectural-styles-dataset\n",
        "!kaggle datasets download dumitrux/architectural-styles-dataset"
      ],
      "metadata": {
        "colab": {
          "base_uri": "https://localhost:8080/"
        },
        "id": "-ISmY8gG6SzA",
        "outputId": "0b4ca905-cc47-4ad1-a6b2-d6da00821128"
      },
      "execution_count": 11,
      "outputs": [
        {
          "output_type": "stream",
          "name": "stdout",
          "text": [
            "Dataset URL: https://www.kaggle.com/datasets/dumitrux/architectural-styles-dataset\n",
            "License(s): CC0-1.0\n",
            "Downloading architectural-styles-dataset.zip to /content\n",
            "100% 1.56G/1.56G [00:23<00:00, 130MB/s]\n",
            "100% 1.56G/1.56G [00:23<00:00, 72.4MB/s]\n"
          ]
        }
      ]
    },
    {
      "cell_type": "code",
      "source": [
        "from zipfile import ZipFile\n",
        "\n",
        "filename = \"architectural-styles-dataset.zip\"\n",
        "# dowloading from source to colab zip-file\n",
        "with ZipFile(filename, \"r\") as zip:\n",
        "  zip.extractall()\n"
      ],
      "metadata": {
        "id": "2xd3qQtB6sQZ"
      },
      "execution_count": 13,
      "outputs": []
    },
    {
      "cell_type": "markdown",
      "source": [
        "  # Form training and testing datasets"
      ],
      "metadata": {
        "id": "U8LRdnHB8c1f"
      }
    },
    {
      "cell_type": "code",
      "source": [
        "from pathlib import Path\n",
        "\n",
        "data_path = Path(\"architectural-styles-dataset\")\n",
        "\n",
        "architecture_style_path = list(data_path.glob(\"*\"))\n",
        "architecture_styles = [asp.stem for asp in architecture_style_path]\n"
      ],
      "metadata": {
        "id": "PQZFnk7D9VuO"
      },
      "execution_count": 2,
      "outputs": []
    },
    {
      "cell_type": "code",
      "source": [
        "# turn images to tensors\n",
        "from torchvision.transforms import transforms\n",
        "from PIL import Image\n",
        "\n",
        "def transform(image):\n",
        "  image = Image.open(image)\n",
        "  return transforms.Compose([transforms.ToTensor()])(image)"
      ],
      "metadata": {
        "id": "14SYSJh--gEe"
      },
      "execution_count": 4,
      "outputs": []
    },
    {
      "cell_type": "code",
      "source": [
        "# create dataset\n",
        "dataset = []\n",
        "for style_name in architecture_styles:\n",
        "  [dataset.append(transform(image_path)) for image_path in list(data_path.glob(f\"{style_name}/*.jpg\"))]"
      ],
      "metadata": {
        "id": "0Hzl4J5w-0Kv"
      },
      "execution_count": null,
      "outputs": []
    },
    {
      "cell_type": "code",
      "source": [
        "import matplotlib.pyplot as plt\n",
        "\n",
        "image, label = dataset[0][0], architecture_styles[0]\n",
        "image\n",
        "# plt.imshow(image.permute(2, 1, 0))\n",
        "# plt.axis(False)\n",
        "# plt.title(label)"
      ],
      "metadata": {
        "colab": {
          "base_uri": "https://localhost:8080/"
        },
        "id": "19GhAaa7CJ7e",
        "outputId": "c9d7a737-210e-4f92-cf5b-20d22f3c24d4"
      },
      "execution_count": 29,
      "outputs": [
        {
          "output_type": "execute_result",
          "data": {
            "text/plain": [
              "Compose(\n",
              "    ToTensor()\n",
              ")"
            ]
          },
          "metadata": {},
          "execution_count": 29
        }
      ]
    },
    {
      "cell_type": "code",
      "source": [],
      "metadata": {
        "id": "OBf0Jr6rCq_Z"
      },
      "execution_count": null,
      "outputs": []
    }
  ]
}